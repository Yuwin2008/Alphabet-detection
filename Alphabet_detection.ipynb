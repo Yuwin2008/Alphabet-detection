{
  "nbformat": 4,
  "nbformat_minor": 0,
  "metadata": {
    "colab": {
      "name": "Alphabet detection.ipynb",
      "provenance": [],
      "authorship_tag": "ABX9TyPFuxuTYqnayZrD0McZMd7c",
      "include_colab_link": true
    },
    "kernelspec": {
      "name": "python3",
      "display_name": "Python 3"
    },
    "language_info": {
      "name": "python"
    }
  },
  "cells": [
    {
      "cell_type": "markdown",
      "metadata": {
        "id": "view-in-github",
        "colab_type": "text"
      },
      "source": [
        "<a href=\"https://colab.research.google.com/github/Yuwin2008/Alphabet-detection/blob/main/Alphabet_detection.ipynb\" target=\"_parent\"><img src=\"https://colab.research.google.com/assets/colab-badge.svg\" alt=\"Open In Colab\"/></a>"
      ]
    },
    {
      "cell_type": "code",
      "metadata": {
        "id": "7xIt7bbuFa3x"
      },
      "source": [
        "#Importing libraries\n",
        "import cv2\n",
        "import numpy as np\n",
        "import pandas as pd\n",
        "import seaborn as sns\n",
        "import matplotlib.pyplot as plt\n",
        "from sklearn.datasets import fetch_openml\n",
        "from sklearn.model_selection import train_test_split\n",
        "from sklearn.linear_model import LogisticRegression\n",
        "from sklearn.metrics import accuracy_score\n",
        "from PIL import Image\n",
        "import PIL.ImageOps\n",
        "import os, ssl, time\n"
      ],
      "execution_count": 2,
      "outputs": []
    },
    {
      "cell_type": "code",
      "metadata": {
        "id": "hwv_JMLdEC0C"
      },
      "source": [
        "#Setting an HTTPS Context to fetch data from OpenML\n",
        "if (not os.environ.get('PYTHONHTTPSVERIFY', '') and\n",
        "    getattr(ssl, '_create_unverified_context', None)): \n",
        "    ssl._create_default_https_context = ssl._create_unverified_context"
      ],
      "execution_count": 3,
      "outputs": []
    },
    {
      "cell_type": "code",
      "metadata": {
        "colab": {
          "base_uri": "https://localhost:8080/"
        },
        "id": "v-juNuQ5FCO2",
        "outputId": "6d3d9e5e-49e9-4c52-c8ef-9ffbefaf7d6e"
      },
      "source": [
        "#Fetching the data\n",
        "X, y = fetch_openml('mnist_784', version=1, return_X_y=True)\n",
        "print(pd.Series(y).value_counts())\n",
        "#Creating classes\n",
        "classes = ['A', 'B', 'C','D', 'E','F', 'G', 'H', 'I', 'J','K','L','M','N','O','P','Q','R','S','T','U','V','W','X','Y','Z']\n",
        "nclasses = len(classes)"
      ],
      "execution_count": 4,
      "outputs": [
        {
          "output_type": "stream",
          "name": "stdout",
          "text": [
            "1    7877\n",
            "7    7293\n",
            "3    7141\n",
            "2    6990\n",
            "9    6958\n",
            "0    6903\n",
            "6    6876\n",
            "8    6825\n",
            "4    6824\n",
            "5    6313\n",
            "dtype: int64\n"
          ]
        }
      ]
    },
    {
      "cell_type": "code",
      "metadata": {
        "colab": {
          "base_uri": "https://localhost:8080/"
        },
        "id": "_mo_qDNpFDJB",
        "outputId": "46583906-c83c-4ace-9a65-8aabc0e06bfc"
      },
      "source": [
        "#Splitting the data and scaling it\n",
        "X_train, X_test, y_train, y_test = train_test_split(X, y, random_state=26, train_size=7500, test_size=2500)\n",
        "#scaling the features\n",
        "X_train_scaled = X_train/255.0\n",
        "X_test_scaled = X_test/255.0\n",
        "\n",
        "#Fitting the training data into the model\n",
        "clf = LogisticRegression(solver='saga', multi_class='multinomial').fit(X_train_scaled, y_train)\n"
      ],
      "execution_count": 5,
      "outputs": [
        {
          "output_type": "stream",
          "name": "stderr",
          "text": [
            "/usr/local/lib/python3.7/dist-packages/sklearn/linear_model/_sag.py:330: ConvergenceWarning: The max_iter was reached which means the coef_ did not converge\n",
            "  \"the coef_ did not converge\", ConvergenceWarning)\n"
          ]
        }
      ]
    },
    {
      "cell_type": "code",
      "metadata": {
        "id": "hLOQ2UVWF8ZZ"
      },
      "source": [
        "#Calculating the accuracy of the model\n",
        "y_pred = clf.predict(X_test_scaled)\n",
        "accuracy = accuracy_score(y_test, y_pred)\n",
        "print(\"The accuracy is :- \",accuracy)"
      ],
      "execution_count": null,
      "outputs": []
    },
    {
      "cell_type": "code",
      "metadata": {
        "id": "W6bCeUv3F3gN"
      },
      "source": [
        "#Starting the camera\n",
        "cap = cv2.VideoCapture(0)\n",
        "\n",
        "while(True):\n",
        "  # Capture frame-by-frame\n",
        "  try:\n",
        "    ret, frame = cap.read()\n",
        "\n",
        "    # Our operations on the frame come here\n",
        "    gray = cv2.cvtColor(frame, cv2.COLOR_BGR2GRAY)\n",
        "    \n",
        "    #Drawing a box in the center of the video\n",
        "    height, width = gray.shape\n",
        "    upper_left = (int(width / 2 - 56), int(height / 2 - 56))\n",
        "    bottom_right = (int(width / 2 + 56), int(height / 2 + 56))\n",
        "    cv2.rectangle(gray, upper_left, bottom_right, (0, 255, 0), 2)\n",
        "\n",
        "    #To only consider the area inside the box for detecting the digit\n",
        "    #roi = Region Of Interest\n",
        "    roi = gray[upper_left[1]:bottom_right[1], upper_left[0]:bottom_right[0]]\n",
        "\n",
        "    #Converting cv2 image to pil format\n",
        "    im_pil = Image.fromarray(roi)\n",
        "\n",
        "    # convert to grayscale image - 'L' format means each pixel is \n",
        "    # represented by a single value from 0 to 255\n",
        "    image_bw = im_pil.convert('L')\n",
        "    image_bw_resized = image_bw.resize((28,28), Image.ANTIALIAS)\n",
        "\n",
        "    image_bw_resized_inverted = PIL.ImageOps.invert(image_bw_resized)\n",
        "    pixel_filter = 20\n",
        "    min_pixel = np.percentile(image_bw_resized_inverted, pixel_filter)\n",
        "    image_bw_resized_inverted_scaled = np.clip(image_bw_resized_inverted-min_pixel, 0, 255)\n",
        "    max_pixel = np.max(image_bw_resized_inverted)\n",
        "    image_bw_resized_inverted_scaled = np.asarray(image_bw_resized_inverted_scaled)/max_pixel\n",
        "    test_sample = np.array(image_bw_resized_inverted_scaled).reshape(1,784)\n",
        "    test_pred = clf.predict(test_sample)\n",
        "    print(\"Predicted class is: \", test_pred)\n",
        "\n",
        "    # Display the resulting frame\n",
        "    cv2.imshow('frame',gray)\n",
        "    if cv2.waitKey(1) & 0xFF == ord('q'):\n",
        "      break\n",
        "  except Exception as e:\n",
        "    pass\n",
        "\n",
        "# When everything done, release the capture\n",
        "cap.release()\n",
        "cv2.destroyAllWindows()"
      ],
      "execution_count": null,
      "outputs": []
    },
    {
      "cell_type": "code",
      "metadata": {
        "id": "zWd15JXpGRf_"
      },
      "source": [
        ""
      ],
      "execution_count": null,
      "outputs": []
    }
  ]
}